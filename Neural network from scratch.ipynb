{
 "cells": [
  {
   "cell_type": "code",
   "execution_count": 1,
   "id": "3541937b",
   "metadata": {},
   "outputs": [],
   "source": [
    "# Creating data set\n",
    "\n",
    "# A\n",
    "a =[0, 0, 1, 1, 0, 0,\n",
    "   0, 1, 0, 0, 1, 0,\n",
    "   1, 1, 1, 1, 1, 1,\n",
    "   1, 0, 0, 0, 0, 1,\n",
    "   1, 0, 0, 0, 0, 1]\n",
    "# B\n",
    "b =[0, 1, 1, 1, 1, 0,\n",
    "   0, 1, 0, 0, 1, 0,\n",
    "   0, 1, 1, 1, 1, 0,\n",
    "   0, 1, 0, 0, 1, 0,\n",
    "   0, 1, 1, 1, 1, 0]\n",
    "# C\n",
    "c =[0, 1, 1, 1, 1, 0,\n",
    "   0, 1, 0, 0, 0, 0,\n",
    "   0, 1, 0, 0, 0, 0,\n",
    "   0, 1, 0, 0, 0, 0,\n",
    "   0, 1, 1, 1, 1, 0]\n",
    "\n",
    "# Creating labels\n",
    "y =[[1, 0, 0],\n",
    "   [0, 1, 0],\n",
    "   [0, 0, 1]]"
   ]
  },
  {
   "cell_type": "code",
   "execution_count": 2,
   "id": "e66796fb",
   "metadata": {},
   "outputs": [
    {
     "data": {
      "image/png": "[encoded data removed]",
      "text/plain": [
       "<Figure size 640x480 with 1 Axes>"
      ]
     },
     "metadata": {},
     "output_type": "display_data"
    }
   ],
   "source": [
    "import numpy as np\n",
    "import matplotlib.pyplot as plt\n",
    "\n",
    "# visualizing the data, plotting A.\n",
    "plt.imshow(np.array(a).reshape(5, 6))\n",
    "plt.show()"
   ]
  },
  {
   "cell_type": "code",
   "execution_count": 3,
   "id": "aa3dff39",
   "metadata": {},
   "outputs": [
    {
     "name": "stdout",
     "output_type": "stream",
     "text": [
      "[array([[0, 0, 1, 1, 0, 0, 0, 1, 0, 0, 1, 0, 1, 1, 1, 1, 1, 1, 1, 0, 0, 0,\n",
      "        0, 1, 1, 0, 0, 0, 0, 1]]), array([[0, 1, 1, 1, 1, 0, 0, 1, 0, 0, 1, 0, 0, 1, 1, 1, 1, 0, 0, 1, 0, 0,\n",
      "        1, 0, 0, 1, 1, 1, 1, 0]]), array([[0, 1, 1, 1, 1, 0, 0, 1, 0, 0, 0, 0, 0, 1, 0, 0, 0, 0, 0, 1, 0, 0,\n",
      "        0, 0, 0, 1, 1, 1, 1, 0]])] \n",
      "\n",
      " [[1 0 0]\n",
      " [0 1 0]\n",
      " [0 0 1]]\n"
     ]
    }
   ],
   "source": [
    "# converting data and labels into numpy array\n",
    "x =[np.array(a).reshape(1, 30), np.array(b).reshape(1, 30), \n",
    "                                np.array(c).reshape(1, 30)]\n",
    "y = np.array(y)\n",
    "# Printing data and labels\n",
    "print(x, \"\\n\\n\", y)"
   ]
  },
  {
   "cell_type": "code",
   "execution_count": 4,
   "id": "9d661ef6",
   "metadata": {},
   "outputs": [],
   "source": [
    "# activation function\n",
    "def sigmoid(x):\n",
    "\treturn(1/(1 + np.exp(-x)))\n",
    "\n",
    "# Creating the Feed forward neural network\n",
    "def f_forward(x, w1, w2):\n",
    "\t# hidden\n",
    "\tz1 = x.dot(w1)    # input from layer 1 \n",
    "\ta1 = sigmoid(z1)  # out put of layer 2 \n",
    "\tz2 = a1.dot(w2)   # input of out layer\n",
    "\ta2 = sigmoid(z2)  # output of out layer\n",
    "\treturn(a2)\n",
    "\n",
    "# initializing the weights randomly\n",
    "def generate_wt(x, y):\n",
    "\tli =[]\n",
    "\tfor i in range(x * y):\n",
    "\t\tli.append(np.random.randn())\n",
    "\treturn(np.array(li).reshape(x, y))\n",
    "\t\n",
    "# for loss we will be using mean square error(MSE)\n",
    "def loss(out, Y):\n",
    "\ts =(np.square(out-Y))\n",
    "\ts = np.sum(s)/len(y)\n",
    "\treturn(s)\n",
    "\n",
    "# Back propagation of error \n",
    "def back_prop(x, y, w1, w2, alpha):\n",
    "\t\n",
    "\t# hidden layer\n",
    "\tz1 = x.dot(w1)\n",
    "\ta1 = sigmoid(z1) \n",
    "\tz2 = a1.dot(w2)\n",
    "\ta2 = sigmoid(z2)\n",
    "\t\n",
    "\t# error in output layer\n",
    "\td2 =(a2-y)\n",
    "\td1 = np.multiply((w2.dot((d2.transpose()))).transpose(), \n",
    "\t\t\t\t\t\t\t\t(np.multiply(a1, 1-a1)))\n",
    "\t# Gradient for w1 and w2\n",
    "\tw1_adj = x.transpose().dot(d1)\n",
    "\tw2_adj = a1.transpose().dot(d2)\n",
    "\t\n",
    "\t# Updating parameters\n",
    "\tw1 = w1-(alpha*(w1_adj))\n",
    "\tw2 = w2-(alpha*(w2_adj))\n",
    "\t\n",
    "\treturn(w1, w2)"
   ]
  },
  {
   "cell_type": "code",
   "execution_count": 5,
   "id": "3c834ded",
   "metadata": {},
   "outputs": [
    {
     "name": "stdout",
     "output_type": "stream",
     "text": [
      "[[ 0.6006116  -0.39495578  1.13196835  0.1947622  -0.10662618]\n",
      " [-0.37511904 -0.50244705  0.01864301 -0.41515652  0.76367884]\n",
      " [-0.38380812 -0.1290292  -1.23220785 -0.20921902 -1.29347218]\n",
      " [-0.04232712  0.02010632  1.32513625 -0.6126832   0.19192709]\n",
      " [-1.61874617  0.66220142  1.10744342 -0.30503514  0.66245764]\n",
      " [-0.40777438  0.07256134 -0.87030721  1.10134601  0.43667861]\n",
      " [-0.03241536 -2.03701803  0.38013727  1.1833205   0.40569244]\n",
      " [ 1.44291967 -0.87832025  1.76353527 -1.35502773 -0.96138066]\n",
      " [-0.38159317  1.13285333  0.68257462 -1.40884312  0.48828121]\n",
      " [ 2.06878345 -0.3127858   0.79289323  0.13689565 -0.33081273]\n",
      " [-0.52372202 -0.18728072  0.43577    -0.66142378  0.65909543]\n",
      " [-0.29000959 -1.78457075 -0.19663466 -0.05905867 -1.3446252 ]\n",
      " [ 0.83289729 -0.81778431  0.1219609  -0.47558794  0.86942067]\n",
      " [ 0.16231316 -0.21090285  1.25930081  0.38914206 -0.13519012]\n",
      " [-0.29525723  1.0046202  -0.07646513  0.84157378  0.36192674]\n",
      " [-0.21643617 -0.79714477 -0.92582348  1.44860351 -1.36550115]\n",
      " [-1.28521542  0.74968963 -1.01097713  0.00719542 -1.19262255]\n",
      " [ 0.61505167  0.87504026 -0.11941838 -1.43936992 -0.30222466]\n",
      " [-1.0772413   2.62723353  0.3118882   0.67372685  1.5717724 ]\n",
      " [ 1.74343294  1.06901327 -0.26624676  1.24526078 -2.19424537]\n",
      " [-0.11884774  2.19288605 -0.59332295  1.91818899  1.27684347]\n",
      " [ 0.3371139   2.30750098  1.69742811  1.21735238  1.64432094]\n",
      " [-0.0593224   0.71789118  0.64723369 -0.39018457 -0.79982443]\n",
      " [-0.96297492  0.32208156  1.02705073 -0.67006853  0.6582067 ]\n",
      " [ 0.79587116  1.3614651  -0.72256171  1.15333551 -0.60853785]\n",
      " [ 0.90638852 -0.6020475  -0.29903252 -2.18957643 -0.35310331]\n",
      " [-0.35430624 -3.5310523  -0.89140466  0.60631263  0.97949248]\n",
      " [-0.22440165 -0.62262118 -0.44489679 -0.61407647  0.1347451 ]\n",
      " [ 1.64951208 -1.45144373  0.62641685 -0.22953643 -1.18112586]\n",
      " [ 0.18351823  0.31102914 -0.3906092   1.6336728   0.19418993]] \n",
      "\n",
      " [[-0.98341647  1.10791558 -0.41177846]\n",
      " [-0.63347338  0.22000126  0.42300038]\n",
      " [-1.51958591  0.16185359  0.493197  ]\n",
      " [ 1.28097917  0.83477473  1.26888609]\n",
      " [ 1.1837685   1.31973812 -0.2841841 ]]\n"
     ]
    }
   ],
   "source": [
    "w1 = generate_wt(30, 5)\n",
    "w2 = generate_wt(5, 3)\n",
    "\n",
    "print(w1, \"\\n\\n\", w2)"
   ]
  },
  {
   "cell_type": "code",
   "execution_count": 6,
   "id": "3b73815b",
   "metadata": {},
   "outputs": [
    {
     "name": "stdout",
     "output_type": "stream",
     "text": [
      "epochs: 1 ======== acc: 64.20610362657293\n",
      "epochs: 2 ======== acc: 66.86072400616017\n",
      "epochs: 3 ======== acc: 69.27421448043664\n",
      "epochs: 4 ======== acc: 71.42536940048328\n",
      "epochs: 5 ======== acc: 73.31486408836057\n",
      "epochs: 6 ======== acc: 74.95262329493136\n",
      "epochs: 7 ======== acc: 76.35643581481023\n",
      "epochs: 8 ======== acc: 77.55383800587214\n",
      "epochs: 9 ======== acc: 78.57875416348449\n",
      "epochs: 10 ======== acc: 79.46484550586467\n",
      "epochs: 11 ======== acc: 80.24093870764088\n",
      "epochs: 12 ======== acc: 80.92981553527278\n",
      "epochs: 13 ======== acc: 81.54889706767185\n",
      "epochs: 14 ======== acc: 82.11143796652411\n",
      "epochs: 15 ======== acc: 82.6276116918973\n",
      "epochs: 16 ======== acc: 83.10533547688519\n",
      "epochs: 17 ======== acc: 83.55085664336073\n",
      "epochs: 18 ======== acc: 83.96915988729076\n",
      "epochs: 19 ======== acc: 84.36425022900828\n",
      "epochs: 20 ======== acc: 84.7393530091237\n",
      "epochs: 21 ======== acc: 85.09706035490517\n",
      "epochs: 22 ======== acc: 85.43944438931196\n",
      "epochs: 23 ======== acc: 85.76815049238895\n",
      "epochs: 24 ======== acc: 86.08447847102518\n",
      "epochs: 25 ======== acc: 86.38945526647386\n",
      "epochs: 26 ======== acc: 86.68389986727794\n",
      "epochs: 27 ======== acc: 86.96847949207955\n",
      "epochs: 28 ======== acc: 87.24375577453418\n",
      "epochs: 29 ======== acc: 87.51022027434328\n",
      "epochs: 30 ======== acc: 87.76831964961767\n",
      "epochs: 31 ======== acc: 88.01847178167417\n",
      "epochs: 32 ======== acc: 88.26107474730111\n",
      "epochs: 33 ======== acc: 88.49651070594685\n",
      "epochs: 34 ======== acc: 88.72514659139398\n",
      "epochs: 35 ======== acc: 88.94733311879727\n",
      "epochs: 36 ======== acc: 89.16340318057642\n",
      "epochs: 37 ======== acc: 89.37367030550129\n",
      "epochs: 38 ======== acc: 89.57842754128414\n",
      "epochs: 39 ======== acc: 89.77794690138677\n",
      "epochs: 40 ======== acc: 89.97247937964208\n",
      "epochs: 41 ======== acc: 90.16225546170111\n",
      "epochs: 42 ======== acc: 90.34748603024458\n",
      "epochs: 43 ======== acc: 90.52836355496976\n",
      "epochs: 44 ======== acc: 90.70506346674738\n",
      "epochs: 45 ======== acc: 90.87774563027132\n",
      "epochs: 46 ======== acc: 91.04655584632313\n",
      "epochs: 47 ======== acc: 91.21162733090567\n",
      "epochs: 48 ======== acc: 91.37308213277551\n",
      "epochs: 49 ======== acc: 91.53103246291235\n",
      "epochs: 50 ======== acc: 91.68558191922352\n",
      "epochs: 51 ======== acc: 91.83682659749634\n",
      "epochs: 52 ======== acc: 91.98485608555976\n",
      "epochs: 53 ======== acc: 92.12975434208127\n",
      "epochs: 54 ======== acc: 92.27160046466437\n",
      "epochs: 55 ======== acc: 92.41046935415272\n",
      "epochs: 56 ======== acc: 92.54643228348388\n",
      "epochs: 57 ======== acc: 92.67955738023205\n",
      "epochs: 58 ======== acc: 92.80991003227643\n",
      "epochs: 59 ======== acc: 92.93755322594663\n",
      "epochs: 60 ======== acc: 93.06254782563002\n",
      "epochs: 61 ======== acc: 93.18495280326135\n",
      "epochs: 62 ======== acc: 93.30482542542096\n",
      "epochs: 63 ======== acc: 93.42222140500321\n",
      "epochs: 64 ======== acc: 93.53719502362318\n",
      "epochs: 65 ======== acc: 93.6497992301441\n",
      "epochs: 66 ======== acc: 93.76008571995533\n",
      "epochs: 67 ======== acc: 93.86810499892783\n",
      "epochs: 68 ======== acc: 93.97390643533315\n",
      "epochs: 69 ======== acc: 94.07753830243892\n",
      "epochs: 70 ======== acc: 94.17904781398995\n",
      "epochs: 71 ======== acc: 94.27848115434838\n",
      "epochs: 72 ======== acc: 94.3758835046954\n",
      "epochs: 73 ======== acc: 94.47129906638602\n",
      "epochs: 74 ======== acc: 94.56477108229066\n",
      "epochs: 75 ======== acc: 94.65634185674739\n",
      "epochs: 76 ======== acc: 94.74605277458085\n",
      "epochs: 77 ======== acc: 94.83394431950958\n",
      "epochs: 78 ======== acc: 94.92005609216113\n",
      "epochs: 79 ======== acc: 95.00442682783444\n",
      "epochs: 80 ======== acc: 95.08709441409091\n",
      "epochs: 81 ======== acc: 95.16809590821305\n",
      "epochs: 82 ======== acc: 95.24746755453893\n",
      "epochs: 83 ======== acc: 95.32524480166234\n",
      "epochs: 84 ======== acc: 95.40146231947509\n",
      "epochs: 85 ======== acc: 95.47615401602226\n",
      "epochs: 86 ======== acc: 95.54935305413869\n",
      "epochs: 87 ======== acc: 95.6210918678354\n",
      "epochs: 88 ======== acc: 95.69140217840764\n",
      "epochs: 89 ======== acc: 95.7603150102396\n",
      "epochs: 90 ======== acc: 95.8278607062855\n",
      "epochs: 91 ======== acc: 95.89406894321131\n",
      "epochs: 92 ======== acc: 95.95896874618566\n",
      "epochs: 93 ======== acc: 96.02258850331351\n",
      "epochs: 94 ======== acc: 96.08495597970929\n",
      "epochs: 95 ======== acc: 96.14609833121001\n",
      "epochs: 96 ======== acc: 96.20604211773215\n",
      "epochs: 97 ======== acc: 96.26481331627791\n",
      "epochs: 98 ======== acc: 96.32243733359898\n",
      "epochs: 99 ======== acc: 96.37893901852752\n",
      "epochs: 100 ======== acc: 96.4343426739847\n"
     ]
    }
   ],
   "source": [
    "def train(x, Y, w1, w2, alpha = 0.01, epoch = 10):\n",
    "\tacc =[]\n",
    "\tlosss =[]\n",
    "\tfor j in range(epoch):\n",
    "\t\tl =[]\n",
    "\t\tfor i in range(len(x)):\n",
    "\t\t\tout = f_forward(x[i], w1, w2)\n",
    "\t\t\tl.append((loss(out, Y[i])))\n",
    "\t\t\tw1, w2 = back_prop(x[i], y[i], w1, w2, alpha)\n",
    "\t\tprint(\"epochs:\", j + 1, \"======== acc:\", (1-(sum(l)/len(x)))*100) \n",
    "\t\tacc.append((1-(sum(l)/len(x)))*100)\n",
    "\t\tlosss.append(sum(l)/len(x))\n",
    "\treturn(acc, losss, w1, w2)\n",
    "\n",
    "acc, losss, w1, w2 = train(x, y, w1, w2, 0.1, 100)"
   ]
  },
  {
   "cell_type": "code",
   "execution_count": 7,
   "id": "f340094f",
   "metadata": {},
   "outputs": [
    {
     "data": {
      "image/png": "[encoded data removed]",
      "text/plain": [
       "<Figure size 640x480 with 1 Axes>"
      ]
     },
     "metadata": {},
     "output_type": "display_data"
    },
    {
     "data": {
      "image/png": "[encoded data removed]",
      "text/plain": [
       "<Figure size 640x480 with 1 Axes>"
      ]
     },
     "metadata": {},
     "output_type": "display_data"
    }
   ],
   "source": [
    "import matplotlib.pyplot as plt1\n",
    "\n",
    "# plotting accuracy\n",
    "plt1.plot(acc)\n",
    "plt1.ylabel('Accuracy')\n",
    "plt1.xlabel(\"Epochs:\")\n",
    "plt1.show()\n",
    "\n",
    "# plotting Loss\n",
    "plt1.plot(losss)\n",
    "plt1.ylabel('Loss')\n",
    "plt1.xlabel(\"Epochs:\")\n",
    "plt1.show()"
   ]
  },
  {
   "cell_type": "code",
   "execution_count": 8,
   "id": "ec3e480a",
   "metadata": {},
   "outputs": [
    {
     "name": "stdout",
     "output_type": "stream",
     "text": [
      "Image is of letter B.\n"
     ]
    },
    {
     "data": {
      "image/png": "[encoded data removed]",
      "text/plain": [
       "<Figure size 640x480 with 1 Axes>"
      ]
     },
     "metadata": {},
     "output_type": "display_data"
    }
   ],
   "source": [
    "def predict(x, w1, w2):\n",
    "\tOut = f_forward(x, w1, w2)\n",
    "\tmaxm = 0\n",
    "\tk = 0\n",
    "\tfor i in range(len(Out[0])):\n",
    "\t\tif(maxm<Out[0][i]):\n",
    "\t\t\tmaxm = Out[0][i]\n",
    "\t\t\tk = i\n",
    "\tif(k == 0):\n",
    "\t\tprint(\"Image is of letter A.\")\n",
    "\telif(k == 1):\n",
    "\t\tprint(\"Image is of letter B.\")\n",
    "\telse:\n",
    "\t\tprint(\"Image is of letter C.\")\n",
    "\tplt.imshow(x.reshape(5, 6))\n",
    "\tplt.show() \n",
    "# Example: Predicting for letter 'B'\t\n",
    "predict(x[1], w1, w2)"
   ]
  }
 ],
 "metadata": {
  "kernelspec": {
   "display_name": "Python 3",
   "language": "python",
   "name": "python3"
  },
  "language_info": {
   "codemirror_mode": {
    "name": "ipython",
    "version": 3
   },
   "file_extension": ".py",
   "mimetype": "text/x-python",
   "name": "python",
   "nbconvert_exporter": "python",
   "pygments_lexer": "ipython3",
   "version": "3.13.5"
  }
 },
 "nbformat": 4,
 "nbformat_minor": 5
}
