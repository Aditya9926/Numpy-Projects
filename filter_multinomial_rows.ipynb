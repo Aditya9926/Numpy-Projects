{
 "cells": [
  {
   "cell_type": "code",
   "execution_count": 5,
   "id": "cc21a90b",
   "metadata": {},
   "outputs": [],
   "source": [
    "import numpy as np\n",
    "\n",
    "def filter_multinomial_rows(X, n):\n",
    "    \"\"\"\n",
    "    Select rows from X that are valid multinomial draws with n trials.\n",
    "\n",
    "    Parameters:\n",
    "    - X: 2D numpy array\n",
    "    - n: number of trials (integer)\n",
    "\n",
    "    Returns:\n",
    "    - filtered_rows: 2D array of rows that sum to n and contain only integers\n",
    "    \"\"\"\n",
    "    # Ensure X is a numpy array\n",
    "    X = np.asarray(X)\n",
    "    \n",
    "    # Condition 1: All elements are integers (check using modulo 1 == 0)\n",
    "    is_integer = np.all(np.mod(X, 1) == 0, axis=1)\n",
    "    \n",
    "    # Condition 2: Row sum equals n\n",
    "    sums_to_n = np.sum(X, axis=1) == n\n",
    "    \n",
    "    # Combine both conditions\n",
    "    valid_rows = is_integer & sums_to_n\n",
    "    \n",
    "    return X[valid_rows]\n"
   ]
  },
  {
   "cell_type": "code",
   "execution_count": 6,
   "id": "3dc54a19",
   "metadata": {},
   "outputs": [
    {
     "name": "stdout",
     "output_type": "stream",
     "text": [
      "[[3. 2. 5.]\n",
      " [2. 2. 6.]\n",
      " [2. 3. 5.]]\n"
     ]
    }
   ],
   "source": [
    "X = np.array([\n",
    "    [3, 2, 5],\n",
    "    [2, 2, 6],\n",
    "    [1.5, 2.5, 6],  # Not integers\n",
    "    [4, 4, 1],      # Sum != 10\n",
    "    [2, 3, 5]\n",
    "])\n",
    "\n",
    "n = 10\n",
    "filtered = filter_multinomial_rows(X, n)\n",
    "print(filtered)\n"
   ]
  }
 ],
 "metadata": {
  "kernelspec": {
   "display_name": "Python 3",
   "language": "python",
   "name": "python3"
  },
  "language_info": {
   "codemirror_mode": {
    "name": "ipython",
    "version": 3
   },
   "file_extension": ".py",
   "mimetype": "text/x-python",
   "name": "python",
   "nbconvert_exporter": "python",
   "pygments_lexer": "ipython3",
   "version": "3.13.5"
  }
 },
 "nbformat": 4,
 "nbformat_minor": 5
}
