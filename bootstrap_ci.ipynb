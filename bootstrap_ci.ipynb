{
 "cells": [
  {
   "cell_type": "code",
   "execution_count": 1,
   "id": "c9ed3739",
   "metadata": {},
   "outputs": [],
   "source": [
    "import numpy as np\n",
    "\n",
    "def bootstrap_ci(X, N=10000, ci=95, random_seed=None):\n",
    "    \"\"\"\n",
    "    Compute bootstrapped confidence interval for the mean of 1D array X.\n",
    "\n",
    "    Parameters:\n",
    "    - X: 1D numpy array\n",
    "    - N: number of bootstrap samples (default 10,000)\n",
    "    - ci: confidence interval percentage (default 95)\n",
    "    - random_seed: for reproducibility\n",
    "\n",
    "    Returns:\n",
    "    - (lower_bound, upper_bound): tuple with the confidence interval bounds\n",
    "    \"\"\"\n",
    "    if random_seed is not None:\n",
    "        np.random.seed(random_seed)\n",
    "    \n",
    "    means = np.empty(N)\n",
    "    n = len(X)\n",
    "    \n",
    "    for i in range(N):\n",
    "        sample = np.random.choice(X, size=n, replace=True)\n",
    "        means[i] = np.mean(sample)\n",
    "    \n",
    "    alpha = 100 - ci\n",
    "    lower = np.percentile(means, alpha / 2)\n",
    "    upper = np.percentile(means, 100 - alpha / 2)\n",
    "    \n",
    "    return lower, upper\n"
   ]
  },
  {
   "cell_type": "code",
   "execution_count": 2,
   "id": "ef87d5e7",
   "metadata": {},
   "outputs": [
    {
     "name": "stdout",
     "output_type": "stream",
     "text": [
      "95% CI for the mean: (2.980, 3.360)\n"
     ]
    }
   ],
   "source": [
    "X = np.array([3.1, 2.9, 3.5, 3.3, 3.0])\n",
    "lower, upper = bootstrap_ci(X)\n",
    "print(f\"95% CI for the mean: ({lower:.3f}, {upper:.3f})\")\n"
   ]
  }
 ],
 "metadata": {
  "kernelspec": {
   "display_name": "Python 3",
   "language": "python",
   "name": "python3"
  },
  "language_info": {
   "codemirror_mode": {
    "name": "ipython",
    "version": 3
   },
   "file_extension": ".py",
   "mimetype": "text/x-python",
   "name": "python",
   "nbconvert_exporter": "python",
   "pygments_lexer": "ipython3",
   "version": "3.13.5"
  }
 },
 "nbformat": 4,
 "nbformat_minor": 5
}
